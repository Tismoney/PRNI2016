{
 "cells": [
  {
   "cell_type": "code",
   "execution_count": 10,
   "metadata": {
    "collapsed": false
   },
   "outputs": [],
   "source": [
    "import FeaturesLeak as fl\n",
    "%matplotlib inline"
   ]
  },
  {
   "cell_type": "code",
   "execution_count": 2,
   "metadata": {
    "collapsed": true
   },
   "outputs": [],
   "source": [
    "test_index =    [[ 5, 10, 13, 18, 44, 45, 56, 67, 70, 79, 90],\n",
    "                 [ 0, 11, 16, 36, 41, 53, 59, 80, 83, 88],\n",
    "                 [ 8, 22, 26, 31, 33, 55, 57, 65, 66, 85],\n",
    "                 [ 1,  2, 35, 39, 42, 54, 63, 69, 76],\n",
    "                 [24, 25, 27, 43, 49, 60, 61, 74, 78],\n",
    "                 [ 7, 12, 32, 46, 50, 52, 75, 77, 87],\n",
    "                 [ 6, 14, 29, 30, 48, 62, 81, 84, 89],\n",
    "                 [ 3,  4, 15, 38, 40, 51, 58, 68, 73],\n",
    "                 [17, 20, 21, 23, 37, 71, 82, 92, 93],\n",
    "                 [ 9, 19, 28, 34, 47, 64, 72, 86, 91]]"
   ]
  },
  {
   "cell_type": "code",
   "execution_count": 7,
   "metadata": {
    "collapsed": true
   },
   "outputs": [],
   "source": [
    "index = []\n",
    "for i in range(10):\n",
    "    train_index = []\n",
    "    for j in range(10):\n",
    "         if i != j: train_index += test_index[j]\n",
    "    index.append([train_index, test_index[i]])"
   ]
  },
  {
   "cell_type": "code",
   "execution_count": 8,
   "metadata": {
    "collapsed": true
   },
   "outputs": [
    {
     "data": {
      "text/plain": [
       "[[[0,\n",
       "   11,\n",
       "   16,\n",
       "   36,\n",
       "   41,\n",
       "   53,\n",
       "   59,\n",
       "   80,\n",
       "   83,\n",
       "   88,\n",
       "   8,\n",
       "   22,\n",
       "   26,\n",
       "   31,\n",
       "   33,\n",
       "   55,\n",
       "   57,\n",
       "   65,\n",
       "   66,\n",
       "   85,\n",
       "   1,\n",
       "   2,\n",
       "   35,\n",
       "   39,\n",
       "   42,\n",
       "   54,\n",
       "   63,\n",
       "   69,\n",
       "   76,\n",
       "   24,\n",
       "   25,\n",
       "   27,\n",
       "   43,\n",
       "   49,\n",
       "   60,\n",
       "   61,\n",
       "   74,\n",
       "   78,\n",
       "   7,\n",
       "   12,\n",
       "   32,\n",
       "   46,\n",
       "   50,\n",
       "   52,\n",
       "   75,\n",
       "   77,\n",
       "   87,\n",
       "   6,\n",
       "   14,\n",
       "   29,\n",
       "   30,\n",
       "   48,\n",
       "   62,\n",
       "   81,\n",
       "   84,\n",
       "   89,\n",
       "   3,\n",
       "   4,\n",
       "   15,\n",
       "   38,\n",
       "   40,\n",
       "   51,\n",
       "   58,\n",
       "   68,\n",
       "   73,\n",
       "   17,\n",
       "   20,\n",
       "   21,\n",
       "   23,\n",
       "   37,\n",
       "   71,\n",
       "   82,\n",
       "   92,\n",
       "   93,\n",
       "   9,\n",
       "   19,\n",
       "   28,\n",
       "   34,\n",
       "   47,\n",
       "   64,\n",
       "   72,\n",
       "   86,\n",
       "   91],\n",
       "  [5, 10, 13, 18, 44, 45, 56, 67, 70, 79, 90]],\n",
       " [[5,\n",
       "   10,\n",
       "   13,\n",
       "   18,\n",
       "   44,\n",
       "   45,\n",
       "   56,\n",
       "   67,\n",
       "   70,\n",
       "   79,\n",
       "   90,\n",
       "   8,\n",
       "   22,\n",
       "   26,\n",
       "   31,\n",
       "   33,\n",
       "   55,\n",
       "   57,\n",
       "   65,\n",
       "   66,\n",
       "   85,\n",
       "   1,\n",
       "   2,\n",
       "   35,\n",
       "   39,\n",
       "   42,\n",
       "   54,\n",
       "   63,\n",
       "   69,\n",
       "   76,\n",
       "   24,\n",
       "   25,\n",
       "   27,\n",
       "   43,\n",
       "   49,\n",
       "   60,\n",
       "   61,\n",
       "   74,\n",
       "   78,\n",
       "   7,\n",
       "   12,\n",
       "   32,\n",
       "   46,\n",
       "   50,\n",
       "   52,\n",
       "   75,\n",
       "   77,\n",
       "   87,\n",
       "   6,\n",
       "   14,\n",
       "   29,\n",
       "   30,\n",
       "   48,\n",
       "   62,\n",
       "   81,\n",
       "   84,\n",
       "   89,\n",
       "   3,\n",
       "   4,\n",
       "   15,\n",
       "   38,\n",
       "   40,\n",
       "   51,\n",
       "   58,\n",
       "   68,\n",
       "   73,\n",
       "   17,\n",
       "   20,\n",
       "   21,\n",
       "   23,\n",
       "   37,\n",
       "   71,\n",
       "   82,\n",
       "   92,\n",
       "   93,\n",
       "   9,\n",
       "   19,\n",
       "   28,\n",
       "   34,\n",
       "   47,\n",
       "   64,\n",
       "   72,\n",
       "   86,\n",
       "   91],\n",
       "  [0, 11, 16, 36, 41, 53, 59, 80, 83, 88]],\n",
       " [[5,\n",
       "   10,\n",
       "   13,\n",
       "   18,\n",
       "   44,\n",
       "   45,\n",
       "   56,\n",
       "   67,\n",
       "   70,\n",
       "   79,\n",
       "   90,\n",
       "   0,\n",
       "   11,\n",
       "   16,\n",
       "   36,\n",
       "   41,\n",
       "   53,\n",
       "   59,\n",
       "   80,\n",
       "   83,\n",
       "   88,\n",
       "   1,\n",
       "   2,\n",
       "   35,\n",
       "   39,\n",
       "   42,\n",
       "   54,\n",
       "   63,\n",
       "   69,\n",
       "   76,\n",
       "   24,\n",
       "   25,\n",
       "   27,\n",
       "   43,\n",
       "   49,\n",
       "   60,\n",
       "   61,\n",
       "   74,\n",
       "   78,\n",
       "   7,\n",
       "   12,\n",
       "   32,\n",
       "   46,\n",
       "   50,\n",
       "   52,\n",
       "   75,\n",
       "   77,\n",
       "   87,\n",
       "   6,\n",
       "   14,\n",
       "   29,\n",
       "   30,\n",
       "   48,\n",
       "   62,\n",
       "   81,\n",
       "   84,\n",
       "   89,\n",
       "   3,\n",
       "   4,\n",
       "   15,\n",
       "   38,\n",
       "   40,\n",
       "   51,\n",
       "   58,\n",
       "   68,\n",
       "   73,\n",
       "   17,\n",
       "   20,\n",
       "   21,\n",
       "   23,\n",
       "   37,\n",
       "   71,\n",
       "   82,\n",
       "   92,\n",
       "   93,\n",
       "   9,\n",
       "   19,\n",
       "   28,\n",
       "   34,\n",
       "   47,\n",
       "   64,\n",
       "   72,\n",
       "   86,\n",
       "   91],\n",
       "  [8, 22, 26, 31, 33, 55, 57, 65, 66, 85]],\n",
       " [[5,\n",
       "   10,\n",
       "   13,\n",
       "   18,\n",
       "   44,\n",
       "   45,\n",
       "   56,\n",
       "   67,\n",
       "   70,\n",
       "   79,\n",
       "   90,\n",
       "   0,\n",
       "   11,\n",
       "   16,\n",
       "   36,\n",
       "   41,\n",
       "   53,\n",
       "   59,\n",
       "   80,\n",
       "   83,\n",
       "   88,\n",
       "   8,\n",
       "   22,\n",
       "   26,\n",
       "   31,\n",
       "   33,\n",
       "   55,\n",
       "   57,\n",
       "   65,\n",
       "   66,\n",
       "   85,\n",
       "   24,\n",
       "   25,\n",
       "   27,\n",
       "   43,\n",
       "   49,\n",
       "   60,\n",
       "   61,\n",
       "   74,\n",
       "   78,\n",
       "   7,\n",
       "   12,\n",
       "   32,\n",
       "   46,\n",
       "   50,\n",
       "   52,\n",
       "   75,\n",
       "   77,\n",
       "   87,\n",
       "   6,\n",
       "   14,\n",
       "   29,\n",
       "   30,\n",
       "   48,\n",
       "   62,\n",
       "   81,\n",
       "   84,\n",
       "   89,\n",
       "   3,\n",
       "   4,\n",
       "   15,\n",
       "   38,\n",
       "   40,\n",
       "   51,\n",
       "   58,\n",
       "   68,\n",
       "   73,\n",
       "   17,\n",
       "   20,\n",
       "   21,\n",
       "   23,\n",
       "   37,\n",
       "   71,\n",
       "   82,\n",
       "   92,\n",
       "   93,\n",
       "   9,\n",
       "   19,\n",
       "   28,\n",
       "   34,\n",
       "   47,\n",
       "   64,\n",
       "   72,\n",
       "   86,\n",
       "   91],\n",
       "  [1, 2, 35, 39, 42, 54, 63, 69, 76]],\n",
       " [[5,\n",
       "   10,\n",
       "   13,\n",
       "   18,\n",
       "   44,\n",
       "   45,\n",
       "   56,\n",
       "   67,\n",
       "   70,\n",
       "   79,\n",
       "   90,\n",
       "   0,\n",
       "   11,\n",
       "   16,\n",
       "   36,\n",
       "   41,\n",
       "   53,\n",
       "   59,\n",
       "   80,\n",
       "   83,\n",
       "   88,\n",
       "   8,\n",
       "   22,\n",
       "   26,\n",
       "   31,\n",
       "   33,\n",
       "   55,\n",
       "   57,\n",
       "   65,\n",
       "   66,\n",
       "   85,\n",
       "   1,\n",
       "   2,\n",
       "   35,\n",
       "   39,\n",
       "   42,\n",
       "   54,\n",
       "   63,\n",
       "   69,\n",
       "   76,\n",
       "   7,\n",
       "   12,\n",
       "   32,\n",
       "   46,\n",
       "   50,\n",
       "   52,\n",
       "   75,\n",
       "   77,\n",
       "   87,\n",
       "   6,\n",
       "   14,\n",
       "   29,\n",
       "   30,\n",
       "   48,\n",
       "   62,\n",
       "   81,\n",
       "   84,\n",
       "   89,\n",
       "   3,\n",
       "   4,\n",
       "   15,\n",
       "   38,\n",
       "   40,\n",
       "   51,\n",
       "   58,\n",
       "   68,\n",
       "   73,\n",
       "   17,\n",
       "   20,\n",
       "   21,\n",
       "   23,\n",
       "   37,\n",
       "   71,\n",
       "   82,\n",
       "   92,\n",
       "   93,\n",
       "   9,\n",
       "   19,\n",
       "   28,\n",
       "   34,\n",
       "   47,\n",
       "   64,\n",
       "   72,\n",
       "   86,\n",
       "   91],\n",
       "  [24, 25, 27, 43, 49, 60, 61, 74, 78]],\n",
       " [[5,\n",
       "   10,\n",
       "   13,\n",
       "   18,\n",
       "   44,\n",
       "   45,\n",
       "   56,\n",
       "   67,\n",
       "   70,\n",
       "   79,\n",
       "   90,\n",
       "   0,\n",
       "   11,\n",
       "   16,\n",
       "   36,\n",
       "   41,\n",
       "   53,\n",
       "   59,\n",
       "   80,\n",
       "   83,\n",
       "   88,\n",
       "   8,\n",
       "   22,\n",
       "   26,\n",
       "   31,\n",
       "   33,\n",
       "   55,\n",
       "   57,\n",
       "   65,\n",
       "   66,\n",
       "   85,\n",
       "   1,\n",
       "   2,\n",
       "   35,\n",
       "   39,\n",
       "   42,\n",
       "   54,\n",
       "   63,\n",
       "   69,\n",
       "   76,\n",
       "   24,\n",
       "   25,\n",
       "   27,\n",
       "   43,\n",
       "   49,\n",
       "   60,\n",
       "   61,\n",
       "   74,\n",
       "   78,\n",
       "   6,\n",
       "   14,\n",
       "   29,\n",
       "   30,\n",
       "   48,\n",
       "   62,\n",
       "   81,\n",
       "   84,\n",
       "   89,\n",
       "   3,\n",
       "   4,\n",
       "   15,\n",
       "   38,\n",
       "   40,\n",
       "   51,\n",
       "   58,\n",
       "   68,\n",
       "   73,\n",
       "   17,\n",
       "   20,\n",
       "   21,\n",
       "   23,\n",
       "   37,\n",
       "   71,\n",
       "   82,\n",
       "   92,\n",
       "   93,\n",
       "   9,\n",
       "   19,\n",
       "   28,\n",
       "   34,\n",
       "   47,\n",
       "   64,\n",
       "   72,\n",
       "   86,\n",
       "   91],\n",
       "  [7, 12, 32, 46, 50, 52, 75, 77, 87]],\n",
       " [[5,\n",
       "   10,\n",
       "   13,\n",
       "   18,\n",
       "   44,\n",
       "   45,\n",
       "   56,\n",
       "   67,\n",
       "   70,\n",
       "   79,\n",
       "   90,\n",
       "   0,\n",
       "   11,\n",
       "   16,\n",
       "   36,\n",
       "   41,\n",
       "   53,\n",
       "   59,\n",
       "   80,\n",
       "   83,\n",
       "   88,\n",
       "   8,\n",
       "   22,\n",
       "   26,\n",
       "   31,\n",
       "   33,\n",
       "   55,\n",
       "   57,\n",
       "   65,\n",
       "   66,\n",
       "   85,\n",
       "   1,\n",
       "   2,\n",
       "   35,\n",
       "   39,\n",
       "   42,\n",
       "   54,\n",
       "   63,\n",
       "   69,\n",
       "   76,\n",
       "   24,\n",
       "   25,\n",
       "   27,\n",
       "   43,\n",
       "   49,\n",
       "   60,\n",
       "   61,\n",
       "   74,\n",
       "   78,\n",
       "   7,\n",
       "   12,\n",
       "   32,\n",
       "   46,\n",
       "   50,\n",
       "   52,\n",
       "   75,\n",
       "   77,\n",
       "   87,\n",
       "   3,\n",
       "   4,\n",
       "   15,\n",
       "   38,\n",
       "   40,\n",
       "   51,\n",
       "   58,\n",
       "   68,\n",
       "   73,\n",
       "   17,\n",
       "   20,\n",
       "   21,\n",
       "   23,\n",
       "   37,\n",
       "   71,\n",
       "   82,\n",
       "   92,\n",
       "   93,\n",
       "   9,\n",
       "   19,\n",
       "   28,\n",
       "   34,\n",
       "   47,\n",
       "   64,\n",
       "   72,\n",
       "   86,\n",
       "   91],\n",
       "  [6, 14, 29, 30, 48, 62, 81, 84, 89]],\n",
       " [[5,\n",
       "   10,\n",
       "   13,\n",
       "   18,\n",
       "   44,\n",
       "   45,\n",
       "   56,\n",
       "   67,\n",
       "   70,\n",
       "   79,\n",
       "   90,\n",
       "   0,\n",
       "   11,\n",
       "   16,\n",
       "   36,\n",
       "   41,\n",
       "   53,\n",
       "   59,\n",
       "   80,\n",
       "   83,\n",
       "   88,\n",
       "   8,\n",
       "   22,\n",
       "   26,\n",
       "   31,\n",
       "   33,\n",
       "   55,\n",
       "   57,\n",
       "   65,\n",
       "   66,\n",
       "   85,\n",
       "   1,\n",
       "   2,\n",
       "   35,\n",
       "   39,\n",
       "   42,\n",
       "   54,\n",
       "   63,\n",
       "   69,\n",
       "   76,\n",
       "   24,\n",
       "   25,\n",
       "   27,\n",
       "   43,\n",
       "   49,\n",
       "   60,\n",
       "   61,\n",
       "   74,\n",
       "   78,\n",
       "   7,\n",
       "   12,\n",
       "   32,\n",
       "   46,\n",
       "   50,\n",
       "   52,\n",
       "   75,\n",
       "   77,\n",
       "   87,\n",
       "   6,\n",
       "   14,\n",
       "   29,\n",
       "   30,\n",
       "   48,\n",
       "   62,\n",
       "   81,\n",
       "   84,\n",
       "   89,\n",
       "   17,\n",
       "   20,\n",
       "   21,\n",
       "   23,\n",
       "   37,\n",
       "   71,\n",
       "   82,\n",
       "   92,\n",
       "   93,\n",
       "   9,\n",
       "   19,\n",
       "   28,\n",
       "   34,\n",
       "   47,\n",
       "   64,\n",
       "   72,\n",
       "   86,\n",
       "   91],\n",
       "  [3, 4, 15, 38, 40, 51, 58, 68, 73]],\n",
       " [[5,\n",
       "   10,\n",
       "   13,\n",
       "   18,\n",
       "   44,\n",
       "   45,\n",
       "   56,\n",
       "   67,\n",
       "   70,\n",
       "   79,\n",
       "   90,\n",
       "   0,\n",
       "   11,\n",
       "   16,\n",
       "   36,\n",
       "   41,\n",
       "   53,\n",
       "   59,\n",
       "   80,\n",
       "   83,\n",
       "   88,\n",
       "   8,\n",
       "   22,\n",
       "   26,\n",
       "   31,\n",
       "   33,\n",
       "   55,\n",
       "   57,\n",
       "   65,\n",
       "   66,\n",
       "   85,\n",
       "   1,\n",
       "   2,\n",
       "   35,\n",
       "   39,\n",
       "   42,\n",
       "   54,\n",
       "   63,\n",
       "   69,\n",
       "   76,\n",
       "   24,\n",
       "   25,\n",
       "   27,\n",
       "   43,\n",
       "   49,\n",
       "   60,\n",
       "   61,\n",
       "   74,\n",
       "   78,\n",
       "   7,\n",
       "   12,\n",
       "   32,\n",
       "   46,\n",
       "   50,\n",
       "   52,\n",
       "   75,\n",
       "   77,\n",
       "   87,\n",
       "   6,\n",
       "   14,\n",
       "   29,\n",
       "   30,\n",
       "   48,\n",
       "   62,\n",
       "   81,\n",
       "   84,\n",
       "   89,\n",
       "   3,\n",
       "   4,\n",
       "   15,\n",
       "   38,\n",
       "   40,\n",
       "   51,\n",
       "   58,\n",
       "   68,\n",
       "   73,\n",
       "   9,\n",
       "   19,\n",
       "   28,\n",
       "   34,\n",
       "   47,\n",
       "   64,\n",
       "   72,\n",
       "   86,\n",
       "   91],\n",
       "  [17, 20, 21, 23, 37, 71, 82, 92, 93]],\n",
       " [[5,\n",
       "   10,\n",
       "   13,\n",
       "   18,\n",
       "   44,\n",
       "   45,\n",
       "   56,\n",
       "   67,\n",
       "   70,\n",
       "   79,\n",
       "   90,\n",
       "   0,\n",
       "   11,\n",
       "   16,\n",
       "   36,\n",
       "   41,\n",
       "   53,\n",
       "   59,\n",
       "   80,\n",
       "   83,\n",
       "   88,\n",
       "   8,\n",
       "   22,\n",
       "   26,\n",
       "   31,\n",
       "   33,\n",
       "   55,\n",
       "   57,\n",
       "   65,\n",
       "   66,\n",
       "   85,\n",
       "   1,\n",
       "   2,\n",
       "   35,\n",
       "   39,\n",
       "   42,\n",
       "   54,\n",
       "   63,\n",
       "   69,\n",
       "   76,\n",
       "   24,\n",
       "   25,\n",
       "   27,\n",
       "   43,\n",
       "   49,\n",
       "   60,\n",
       "   61,\n",
       "   74,\n",
       "   78,\n",
       "   7,\n",
       "   12,\n",
       "   32,\n",
       "   46,\n",
       "   50,\n",
       "   52,\n",
       "   75,\n",
       "   77,\n",
       "   87,\n",
       "   6,\n",
       "   14,\n",
       "   29,\n",
       "   30,\n",
       "   48,\n",
       "   62,\n",
       "   81,\n",
       "   84,\n",
       "   89,\n",
       "   3,\n",
       "   4,\n",
       "   15,\n",
       "   38,\n",
       "   40,\n",
       "   51,\n",
       "   58,\n",
       "   68,\n",
       "   73,\n",
       "   17,\n",
       "   20,\n",
       "   21,\n",
       "   23,\n",
       "   37,\n",
       "   71,\n",
       "   82,\n",
       "   92,\n",
       "   93],\n",
       "  [9, 19, 28, 34, 47, 64, 72, 86, 91]]]"
      ]
     },
     "execution_count": 8,
     "metadata": {},
     "output_type": "execute_result"
    }
   ],
   "source": [
    "index"
   ]
  },
  {
   "cell_type": "code",
   "execution_count": 11,
   "metadata": {
    "collapsed": false
   },
   "outputs": [],
   "source": [
    "grid_cv = fl.StratifiedKFold(n_splits=10,\n",
    "                          shuffle=True,\n",
    "                          random_state=0)\n",
    "\n",
    "eval_cv = fl.StratifiedKFold(n_splits=10,\n",
    "                          shuffle=True,\n",
    "                          random_state=1)"
   ]
  },
  {
   "cell_type": "code",
   "execution_count": 15,
   "metadata": {
    "collapsed": false
   },
   "outputs": [],
   "source": [
    "myClass = fl.ChooseSubsection(grid_cv, eval_cv, \n",
    "                            k_tr            = 2,\n",
    "                            k_bag           = 2,\n",
    "                            test_size       = 0.1,\n",
    "                            collect_n       = 100,\n",
    "                            size_dim        = 264,\n",
    "                            num_iteration   = 700,\n",
    "                            learning_rate   = 0.2,\n",
    "                            print_log       = True,\n",
    "                            max_vec         = 12)"
   ]
  },
  {
   "cell_type": "code",
   "execution_count": 16,
   "metadata": {
    "collapsed": false
   },
   "outputs": [],
   "source": [
    "myClass.init_data()"
   ]
  },
  {
   "cell_type": "code",
   "execution_count": 17,
   "metadata": {
    "collapsed": false,
    "scrolled": true
   },
   "outputs": [
    {
     "name": "stdout",
     "output_type": "stream",
     "text": [
      "INIT\t SCORE: 0.792\t\n",
      "\n",
      "epoch # 406\t SCORE: 0.812\t ADD: 61\n",
      "\n",
      "epoch # 640\t SCORE: 0.820\t ADD: 70\n",
      "\n",
      "\n",
      "REAL SCORE: 0.55\n"
     ]
    },
    {
     "data": {
      "image/png": "[encoded data removed]",
      "text/plain": [
       "<matplotlib.figure.Figure at 0x7f7eadabac10>"
      ]
     },
     "metadata": {},
     "output_type": "display_data"
    },
    {
     "name": "stdout",
     "output_type": "stream",
     "text": [
      "INIT\t SCORE: 0.724\t\n",
      "epoch # 168\t SCORE: 0.821\t ADD: 79\n",
      "\n",
      "epoch # 227\t SCORE: 0.831\t ADD: 78\n",
      "\n",
      "\n",
      "\n",
      "REAL SCORE: 0.7\n"
     ]
    },
    {
     "data": {
      "image/png": "[encoded data removed]",
      "text/plain": [
       "<matplotlib.figure.Figure at 0x7f7ee41bcd90>"
      ]
     },
     "metadata": {},
     "output_type": "display_data"
    },
    {
     "name": "stdout",
     "output_type": "stream",
     "text": [
      "INIT\t SCORE: 0.810\t\n",
      "epoch # 127\t SCORE: 0.834\t ADD: 72\n",
      "\n",
      "epoch # 399\t SCORE: 0.848\t ADD: 77\n",
      "\n",
      "epoch # 530\t SCORE: 0.850\t ADD: 70\n",
      "\n",
      "\n",
      "\n",
      "REAL SCORE: 0.6\n"
     ]
    },
    {
     "data": {
      "image/png": "[encoded data removed]",
      "text/plain": [
       "<matplotlib.figure.Figure at 0x7f7eae0eb5d0>"
      ]
     },
     "metadata": {},
     "output_type": "display_data"
    },
    {
     "name": "stdout",
     "output_type": "stream",
     "text": [
      "INIT\t SCORE: 0.785\t\n",
      "epoch # 76\t SCORE: 0.794\t ADD: 77\n",
      "\n",
      "epoch # 100\t SCORE: 0.828\t ADD: 78\n",
      "\n",
      "epoch # 178\t SCORE: 0.832\t ADD: 77\n",
      "\n",
      "epoch # 315\t SCORE: 0.899\t ADD: 70\n",
      "\n",
      "\n",
      "\n",
      "REAL SCORE: 0.675\n"
     ]
    },
    {
     "data": {
      "image/png": "[encoded data removed]",
      "text/plain": [
       "<matplotlib.figure.Figure at 0x7f7eae0eb5d0>"
      ]
     },
     "metadata": {},
     "output_type": "display_data"
    },
    {
     "name": "stdout",
     "output_type": "stream",
     "text": [
      "INIT\t SCORE: 0.783\t\n",
      "\n",
      "\n",
      "REAL SCORE: 0.5\n"
     ]
    },
    {
     "data": {
      "image/png": "[encoded data removed]",
      "text/plain": [
       "<matplotlib.figure.Figure at 0x7f7eadabf490>"
      ]
     },
     "metadata": {},
     "output_type": "display_data"
    },
    {
     "name": "stdout",
     "output_type": "stream",
     "text": [
      "INIT\t SCORE: 0.775\t\n",
      "epoch # 181\t SCORE: 0.803\t ADD: 78\n",
      "\n",
      "epoch # 289\t SCORE: 0.810\t ADD: 70\n",
      "\n",
      "epoch # 472\t SCORE: 0.812\t ADD: 82\n",
      "\n",
      "epoch # 546\t SCORE: 0.818\t ADD: 64\n",
      "\n",
      "epoch # 656\t SCORE: 0.820\t ADD: 80\n",
      "\n",
      "\n",
      "REAL SCORE: 0.9\n"
     ]
    },
    {
     "data": {
      "image/png": "[encoded data removed]",
      "text/plain": [
       "<matplotlib.figure.Figure at 0x7f7eade753d0>"
      ]
     },
     "metadata": {},
     "output_type": "display_data"
    },
    {
     "name": "stdout",
     "output_type": "stream",
     "text": [
      "INIT\t SCORE: 0.734\t\n",
      "epoch # 253\t SCORE: 0.747\t ADD: 62\n",
      "\n",
      "epoch # 336\t SCORE: 0.764\t ADD: 84\n",
      "\n",
      "epoch # 629\t SCORE: 0.766\t ADD: 68\n",
      "\n",
      "\n",
      "\n",
      "REAL SCORE: 0.9\n"
     ]
    },
    {
     "data": {
      "image/png": "[encoded data removed]",
      "text/plain": [
       "<matplotlib.figure.Figure at 0x7f7ee41bcd90>"
      ]
     },
     "metadata": {},
     "output_type": "display_data"
    },
    {
     "name": "stdout",
     "output_type": "stream",
     "text": [
      "INIT\t SCORE: 0.781\t\n",
      "epoch # 381\t SCORE: 0.865\t ADD: 62\n",
      "\n",
      "\n",
      "\n",
      "REAL SCORE: 0.775\n"
     ]
    },
    {
     "data": {
      "image/png": "[encoded data removed]",
      "text/plain": [
       "<matplotlib.figure.Figure at 0x7f7ee984c9d0>"
      ]
     },
     "metadata": {},
     "output_type": "display_data"
    },
    {
     "name": "stdout",
     "output_type": "stream",
     "text": [
      "INIT\t SCORE: 0.790\t\n",
      "\n",
      "\n",
      "REAL SCORE: 0.5\n"
     ]
    },
    {
     "data": {
      "image/png": "[encoded data removed]",
      "text/plain": [
       "<matplotlib.figure.Figure at 0x7f7ee418e550>"
      ]
     },
     "metadata": {},
     "output_type": "display_data"
    },
    {
     "name": "stdout",
     "output_type": "stream",
     "text": [
      "INIT\t SCORE: 0.812\t\n",
      "epoch # 111\t SCORE: 0.824\t ADD: 84\n",
      "\n",
      "epoch # 165\t SCORE: 0.844\t ADD: 79\n",
      "\n",
      "epoch # 214\t SCORE: 0.868\t ADD: 70\n",
      "\n",
      "epoch # 281\t SCORE: 0.887\t ADD: 82\n",
      "\n",
      "epoch # 283\t SCORE: 0.908\t ADD: 70\n",
      "\n",
      "\n",
      "REAL SCORE: 0.55\n"
     ]
    },
    {
     "data": {
      "image/png": "[encoded data removed]",
      "text/plain": [
       "<matplotlib.figure.Figure at 0x7f7ee418e550>"
      ]
     },
     "metadata": {},
     "output_type": "display_data"
    }
   ],
   "source": [
    "myClass.get_seed_result(index)"
   ]
  },
  {
   "cell_type": "code",
   "execution_count": null,
   "metadata": {
    "collapsed": true
   },
   "outputs": [],
   "source": []
  }
 ],
 "metadata": {
  "kernelspec": {
   "display_name": "Python 2",
   "language": "python",
   "name": "python2"
  },
  "language_info": {
   "codemirror_mode": {
    "name": "ipython",
    "version": 2
   },
   "file_extension": ".py",
   "mimetype": "text/x-python",
   "name": "python",
   "nbconvert_exporter": "python",
   "pygments_lexer": "ipython2",
   "version": "2.7.12"
  },
  "widgets": {
   "state": {
    "0e33b50d67544ea097ce1b0862053dda": {
     "views": [
      {
       "cell_index": 7
      }
     ]
    },
    "13fb9342552841f7befcd7dbf8266227": {
     "views": [
      {
       "cell_index": 7
      }
     ]
    },
    "17c0998534164eecbb0fabb39b852a85": {
     "views": [
      {
       "cell_index": 7
      }
     ]
    },
    "1819385422994400b935f850cbf1d409": {
     "views": [
      {
       "cell_index": 7
      }
     ]
    },
    "261d884bcd9e44099a80f8f014d033dc": {
     "views": [
      {
       "cell_index": 7
      }
     ]
    },
    "2ba0a3bc3c3f44db9b9a64343d1fe4e7": {
     "views": [
      {
       "cell_index": 7
      }
     ]
    },
    "42065c9668d844dd95b056d4bc7b180f": {
     "views": [
      {
       "cell_index": 7
      }
     ]
    },
    "4ccafc3890144d5e90a1c72a03c208bb": {
     "views": [
      {
       "cell_index": 7
      }
     ]
    },
    "585164223522484bbb5ac9a933fb8698": {
     "views": [
      {
       "cell_index": 7
      }
     ]
    },
    "6335feeb73874a16a62e354a60e3876e": {
     "views": [
      {
       "cell_index": 7
      }
     ]
    },
    "63879d22ed0a4d46bdf408b351d8693e": {
     "views": [
      {
       "cell_index": 7
      }
     ]
    },
    "68a55995cdb0419f978cb5f78f15bd8e": {
     "views": [
      {
       "cell_index": 7
      }
     ]
    },
    "7254ac2ecea34d20b7073ffeb62127e9": {
     "views": [
      {
       "cell_index": 7
      }
     ]
    },
    "aee0a7bd0b324067b32ec7dc7a06fb18": {
     "views": [
      {
       "cell_index": 7
      }
     ]
    },
    "bed9ce92cc9447358cefd0d684b35ff3": {
     "views": [
      {
       "cell_index": 7
      }
     ]
    },
    "c2a4983a490e423aa0b2ae3cf7aefdf1": {
     "views": [
      {
       "cell_index": 7
      }
     ]
    },
    "cc2b166b8adc4b949c630eac2d411edb": {
     "views": [
      {
       "cell_index": 7
      }
     ]
    },
    "d8e4ab0d35de443caebf9706c54976d6": {
     "views": [
      {
       "cell_index": 7
      }
     ]
    },
    "e5539e03062c4deb93ba754acc1ddd4c": {
     "views": [
      {
       "cell_index": 7
      }
     ]
    },
    "f4741783a4f04cc5997b6a5526c220a2": {
     "views": [
      {
       "cell_index": 7
      }
     ]
    }
   },
   "version": "1.2.0"
  }
 },
 "nbformat": 4,
 "nbformat_minor": 2
}
