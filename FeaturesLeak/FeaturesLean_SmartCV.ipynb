{
 "cells": [
  {
   "cell_type": "code",
   "execution_count": 1,
   "metadata": {
    "collapsed": true
   },
   "outputs": [],
   "source": [
    "from sklearn.preprocessing import FunctionTransformer\n",
    "\n",
    "from reskit.norms import binar_norm\n",
    "from reskit.core import Transformer, Pipeliner\n",
    "\n",
    "from sklearn.feature_selection import VarianceThreshold\n",
    "\n",
    "from sklearn.preprocessing import MinMaxScaler\n",
    "\n",
    "from sklearn.linear_model import LogisticRegression\n",
    "\n",
    "from sklearn.model_selection import StratifiedKFold\n",
    "\n",
    "from sklearn.pipeline import Pipeline\n",
    "from sklearn.model_selection import GridSearchCV\n",
    "from sklearn.model_selection import cross_val_score\n",
    "\n",
    "import os\n",
    "import pandas as pd\n",
    "import numpy as np\n",
    "\n",
    "def warn(*args, **kwargs):\n",
    "    pass\n",
    "import warnings\n",
    "warnings.warn = warn\n",
    "\n",
    "def orig(x):\n",
    "    return x\n",
    "\n",
    "from matplotlib import pyplot as plt\n",
    "%matplotlib inline\n",
    "import re\n",
    "\n",
    "from tqdm import tqdm_notebook as tqdm"
   ]
  },
  {
   "cell_type": "code",
   "execution_count": 2,
   "metadata": {
    "collapsed": true
   },
   "outputs": [],
   "source": [
    "def get_autism(path_to_read='../Data/dti/', distances=True):\n",
    "    def get_autism_distances(loc_name):\n",
    "        with open(loc_name, 'r') as f:\n",
    "            read_data = f.readlines()\n",
    "\n",
    "        read_data = pd.DataFrame(\n",
    "            np.array([np.array(item[:-1].split()).astype(int) for item in read_data]))\n",
    "\n",
    "        return read_data\n",
    "\n",
    "    def get_distance_matrix(coords):\n",
    "        if type(coords) == pd.core.frame.DataFrame:\n",
    "            coords = coords.values\n",
    "        elif type(coords) != np.ndarray:\n",
    "            print('Provide either pandas df or numpy array!')\n",
    "            return -1\n",
    "\n",
    "        shape = len(coords)\n",
    "        dist_matrix = np.zeros((shape, shape))\n",
    "        del shape\n",
    "        for i in range(len(coords)):\n",
    "            for j in range(i + 1, len(coords)):\n",
    "                dist_matrix[i, j] = np.linalg.norm(coords[i, :] - coords[j, :])\n",
    "                dist_matrix[j, i] = dist_matrix[i, j]\n",
    "        return dist_matrix\n",
    "\n",
    "    target_vector = []  # this will be a target vector (diagnosis)\n",
    "    matrices = []  # this will be a list of connectomes\n",
    "    all_files = sorted(os.listdir(path_to_read))\n",
    "    matrix_files = [\n",
    "        item for item in all_files if 'DTI_connectivity' in item and 'All' not in item]\n",
    "    distance_files = [\n",
    "        item for item in all_files if 'DTI_region_xyz_centers' in item and 'All' not in item]\n",
    "\n",
    "    # for each file in a sorted (!) list of files:\n",
    "    for filename in matrix_files:\n",
    "\n",
    "        A_dataframe = pd.read_csv(\n",
    "            path_to_read + filename, sep='   ', header=None, engine='python')\n",
    "        A = A_dataframe.values  # we will use a list of numpy arrays, NOT pandas dataframes\n",
    "        matrices.append(A)# append a matrix to our list\n",
    "        if \"ASD\" in filename:\n",
    "            target_vector.append(1)\n",
    "        elif \"TD\" in filename:\n",
    "            target_vector.append(0)\n",
    "    asd_dict = {}\n",
    "    asd_dict['X'] = np.array(matrices)\n",
    "    asd_dict['y'] = np.array(target_vector)\n",
    "    if distances:\n",
    "        dist_matrix_list = []\n",
    "        for item in distance_files:\n",
    "            # print(item)\n",
    "            cur_coord = get_autism_distances(path_to_read + item)\n",
    "            cur_dist_mtx = get_distance_matrix(cur_coord)\n",
    "            dist_matrix_list += [cur_dist_mtx]\n",
    "\n",
    "        asd_dict['dist'] = np.array(dist_matrix_list)\n",
    "\n",
    "    return asd_dict"
   ]
  },
  {
   "cell_type": "code",
   "execution_count": 3,
   "metadata": {
    "collapsed": false
   },
   "outputs": [],
   "source": [
    "def matrix_eig(data):\n",
    "    #new_data = {}\n",
    "    #new_data['y'] = data['y']\n",
    "    data['X_vec'] = np.zeros(shape = (data['X'].shape[0], data['X'].shape[1] * data['X'].shape[1]))\n",
    "    for i in np.arange(data['X'].shape[0]):\n",
    "        curs, vecs = np.linalg.eig(data['X'][i])\n",
    "        indx = abs(curs).argsort()\n",
    "        vecs = vecs[indx]\n",
    "        curs = curs[indx]\n",
    "        data['X_vec'][i] = convert(vecs.dot(np.diag(curs)).T, 'mat2vec', 264)\n",
    "    return data\n",
    "\n",
    "#Функция преобразования матрицы в вектор и наоборот\n",
    "def convert(A, mode, size = 264):\n",
    "    if mode == 'mat2vec':\n",
    "        A_vec = np.reshape(A, A.shape[0]*A.shape[1])\n",
    "        return A_vec\n",
    "        \n",
    "    if mode == 'vec2mat':\n",
    "        A_mat = np.reshape(A, (size, A.shape[0] / size ))\n",
    "        return A_mat"
   ]
  },
  {
   "cell_type": "code",
   "execution_count": 4,
   "metadata": {
    "collapsed": true
   },
   "outputs": [],
   "source": [
    "params = {\n",
    "    'text.usetex'         : True,\n",
    "    'text.latex.unicode'  : True,\n",
    "    'text.latex.preamble' : r\"\\usepackage[T2A]{fontenc}\",\n",
    "    'font.size'           : 15,\n",
    "    'font.family'         : 'lmodern'\n",
    "    }\n",
    "\n",
    "plt.rcParams.update(params)\n",
    "\n",
    "\n",
    "\n",
    "def print_boxplot(data1, data2, figsize = (10.5,6.5), save = False):\n",
    "    fig, (ax1, ax2) = plt.subplots(1, 2, sharey=True, figsize=figsize)\n",
    "    \n",
    "    bp  = ax2.boxplot(data2, 0, '+')\n",
    "    \n",
    "    x = np.arange(len(data1))\n",
    "    ax1.plot(x, data1)\n",
    "    \n",
    "    plt.setp(bp['boxes'],    color='DarkGreen')\n",
    "    plt.setp(bp['whiskers'], color='DarkOrange', linestyle = '-')\n",
    "    plt.setp(bp['medians'],  color='DarkBlue')\n",
    "    plt.setp(bp['caps'],     color='Gray')\n",
    "    \n",
    "    ax1.set_title(r'Process of learning')\n",
    "    ax2.set_title(r'BoxPlot')\n",
    "    ax1.set_ylabel(r'ROC AUC mean')\n",
    "    ax1.yaxis.grid(True, linestyle='-', which='major', color='lightgrey',alpha=0.5)\n",
    "    ax2.yaxis.grid(True, linestyle='-', which='major', color='lightgrey',alpha=0.5)\n",
    "    \n",
    "    plt.show()\n",
    "    if save: fig.savefig('fig.png', dpi = 300)"
   ]
  },
  {
   "cell_type": "markdown",
   "metadata": {},
   "source": [
    "### Обучим одну модель на X_tr"
   ]
  },
  {
   "cell_type": "code",
   "execution_count": 5,
   "metadata": {
    "collapsed": false
   },
   "outputs": [],
   "source": [
    "data = '../Data/dti/'\n",
    "data = Transformer(get_autism).fit_transform(data)\n",
    "data = Transformer(binar_norm).fit_transform(data)\n",
    "data = Transformer(matrix_eig).fit_transform(data)"
   ]
  },
  {
   "cell_type": "code",
   "execution_count": 6,
   "metadata": {
    "collapsed": true
   },
   "outputs": [],
   "source": [
    "X = data['X_vec']\n",
    "y = data['y']"
   ]
  },
  {
   "cell_type": "code",
   "execution_count": 7,
   "metadata": {
    "collapsed": false
   },
   "outputs": [],
   "source": [
    "from sklearn.model_selection import train_test_split\n",
    "X_train, X_test, y_train, y_test = train_test_split(X, y, test_size=0.1)"
   ]
  },
  {
   "cell_type": "code",
   "execution_count": 8,
   "metadata": {
    "collapsed": false
   },
   "outputs": [
    {
     "name": "stdout",
     "output_type": "stream",
     "text": [
      "(84, 69696)\n",
      "(10, 69696)\n",
      "(84,)\n",
      "(10,)\n",
      "69696\n"
     ]
    }
   ],
   "source": [
    "print X_train.shape\n",
    "print X_test.shape\n",
    "print y_train.shape\n",
    "print y_test.shape\n",
    "print 264*264"
   ]
  },
  {
   "cell_type": "code",
   "execution_count": 9,
   "metadata": {
    "collapsed": true
   },
   "outputs": [],
   "source": [
    "def split_features(X, k_tr = 3, k_bag = 3):\n",
    "    X_tr = X[:,-264 * k_tr:]\n",
    "    print X_tr.shape, 264 * k_tr\n",
    "    X_bag = []\n",
    "    for i in range( (264 - k_tr) / k_bag ):\n",
    "        X_i = X[:, (0+i)*264 :(k_bag+i)*264]\n",
    "        X_bag.append(X_i)\n",
    "    X_bag = np.array(X_bag)\n",
    "    print X_bag[0].shape, 264*k_bag\n",
    "    \n",
    "    return X_tr, X_bag"
   ]
  },
  {
   "cell_type": "code",
   "execution_count": 10,
   "metadata": {
    "collapsed": false
   },
   "outputs": [],
   "source": [
    "import random\n",
    "\n",
    "def supposed_index(X_bag):\n",
    "    # X_bag: (size, 94, 1320)\n",
    "    size = X_bag.shape[0] - 1\n",
    "    \n",
    "    ind = int(size - size * random.expovariate(1) / 5)\n",
    "    if ind > size : ind = size\n",
    "    if ind < 0  : ind = 0\n",
    "    return ind"
   ]
  },
  {
   "cell_type": "code",
   "execution_count": 11,
   "metadata": {
    "collapsed": true
   },
   "outputs": [],
   "source": [
    "def join_features(X_tr, X_i):\n",
    "    return np.concatenate((X_tr, X_i), axis = 1)"
   ]
  },
  {
   "cell_type": "code",
   "execution_count": 12,
   "metadata": {
    "collapsed": false
   },
   "outputs": [],
   "source": [
    "grid_cv = StratifiedKFold(n_splits=10,\n",
    "                          shuffle=True,\n",
    "                          random_state=0)\n",
    "\n",
    "eval_cv = StratifiedKFold(n_splits=10,\n",
    "                          shuffle=True,\n",
    "                          random_state=1)"
   ]
  },
  {
   "cell_type": "code",
   "execution_count": 13,
   "metadata": {
    "collapsed": true
   },
   "outputs": [],
   "source": [
    "from sklearn.metrics import roc_auc_score\n",
    "\n",
    "def get_grid_and_score(X, y, X_ts = None, y_ts = None, collect_n = 0):\n",
    "    steps = [('selector', VarianceThreshold()), ('scaler', MinMaxScaler()), ('classifier', LogisticRegression())] \n",
    "    pipeline = Pipeline(steps)\n",
    "\n",
    "    param_grid = dict(classifier__penalty=['l1'], \n",
    "                      classifier__C      =[0.1, 0.5, 1.0]\n",
    "                     )\n",
    "    scoring = 'roc_auc'\n",
    "    grid_clf = GridSearchCV(estimator=pipeline, param_grid=param_grid, scoring=scoring, n_jobs=-1, cv=grid_cv)\n",
    "\n",
    "    grid_clf.fit(X, y)\n",
    "    \n",
    "    steps[-1] = steps[-1][0], grid_clf.best_estimator_\n",
    "    pipeline = Pipeline(steps)\n",
    "    if not collect_n:\n",
    "        scores = cross_val_score(pipeline, X, y, scoring=scoring, cv=eval_cv, n_jobs=-1)\n",
    "        return np.mean(scores)\n",
    "    if collect_n:\n",
    "        scores = []\n",
    "        rd = eval_cv.random_state\n",
    "        for i in tqdm(range(1, collect_n)):\n",
    "            sc = cross_val_score(pipeline, X, y, scoring=scoring, cv=eval_cv, n_jobs=-1)\n",
    "            scores.append(np.mean(sc))\n",
    "            eval_cv.random_state += i\n",
    "        eval_cv.random_state = rd\n",
    "        print grid_clf.best_estimator_\n",
    "        \n",
    "        pipeline.fit(X, y)\n",
    "        y_pr = pipeline.predict(X_ts)\n",
    "        real_score = roc_auc_score(y_test, y_pr)\n",
    "        print \"REAL SCORE: {}\".format(real_score)\n",
    "        return scores, real_score"
   ]
  },
  {
   "cell_type": "code",
   "execution_count": 14,
   "metadata": {
    "collapsed": false,
    "scrolled": true
   },
   "outputs": [
    {
     "name": "stdout",
     "output_type": "stream",
     "text": [
      "(84, 792) 792\n",
      "(84, 792) 792\n",
      "(10, 792) 792\n",
      "(10, 792) 792\n",
      "SCORE:  0.698333333333\n",
      "\n",
      "epoch # 129\t SCORE: 0.726\t ADD: 70\n",
      "\n",
      "epoch # 155\t SCORE: 0.741\t ADD: 78\n",
      "\n",
      "epoch # 202\t SCORE: 0.743\t ADD: 68\n",
      "\n",
      "epoch # 214\t SCORE: 0.747\t ADD: 77\n",
      "\n",
      "epoch # 233\t SCORE: 0.764\t ADD: 79\n",
      "\n",
      "epoch # 263\t SCORE: 0.770\t ADD: 78\n",
      "\n",
      "epoch # 267\t SCORE: 0.835\t ADD: 62\n",
      "\n",
      "\n"
     ]
    }
   ],
   "source": [
    "table_score = []\n",
    "\n",
    "X_tr, X_bag = split_features(X_train, 3, 3)\n",
    "X_ts, X_tag = split_features(X_test , 3, 3)\n",
    "ar_to_improve = np.zeros(X_bag.shape[0])\n",
    "table_score.append(get_grid_and_score(X_tr, y_train))\n",
    "\n",
    "print \"SCORE: \\n\", table_score[0]\n",
    "\n",
    "for i in tqdm(range(300)):\n",
    "    ind = supposed_index(X_bag)\n",
    "    score = get_grid_and_score(join_features(X_tr, X_bag[ind]), y_train)\n",
    "    if score > table_score[-1]:\n",
    "        ar_to_improve[ind] += 0.3 * score\n",
    "        #print \"          SCORE: \", score\n",
    "        #print \"          IND:   \", ind\n",
    "    for j, ar in enumerate(ar_to_improve):\n",
    "        if ar >= 1:\n",
    "            X_tr = join_features(X_tr, X_bag[j])\n",
    "            X_ts = join_features(X_ts, X_tag[j])\n",
    "            X_bag = np.delete(X_bag, j, axis=0)\n",
    "            X_tag = np.delete(X_tag, j, axis=0) \n",
    "            ar_to_improve = np.delete(ar_to_improve, j, axis=0)\n",
    "            table_score.append(score)\n",
    "            print \"epoch # {}\\t SCORE: {:.3f}\\t ADD: {}\\n\".format(i, score, j)\n",
    "\n",
    "#print ar_to_improve"
   ]
  },
  {
   "cell_type": "code",
   "execution_count": 15,
   "metadata": {
    "collapsed": false
   },
   "outputs": [
    {
     "name": "stdout",
     "output_type": "stream",
     "text": [
      "(84, 6336)\n",
      "(10, 6336)\n",
      "\n",
      "Pipeline(steps=[('selector', VarianceThreshold(threshold=0.0)), ('scaler', MinMaxScaler(copy=True, feature_range=(0, 1))), ('classifier', LogisticRegression(C=0.5, class_weight=None, dual=False, fit_intercept=True,\n",
      "          intercept_scaling=1, max_iter=100, multi_class='ovr', n_jobs=1,\n",
      "          penalty='l1', random_state=None, solver='liblinear', tol=0.0001,\n",
      "          verbose=0, warm_start=False))])\n",
      "REAL SCORE: 0.916666666667\n"
     ]
    }
   ],
   "source": [
    "print X_tr.shape\n",
    "print X_ts.shape\n",
    "\n",
    "all_scores = get_grid_and_score(X_tr, y_train, X_ts, y_test, 50)"
   ]
  },
  {
   "cell_type": "code",
   "execution_count": 16,
   "metadata": {
    "collapsed": false,
    "scrolled": false
   },
   "outputs": [
    {
     "data": {
      "image/png": "[encoded data removed]",
      "text/plain": [
       "<matplotlib.figure.Figure at 0x7f3b389b3910>"
      ]
     },
     "metadata": {},
     "output_type": "display_data"
    }
   ],
   "source": [
    "print_boxplot(table_score, all_scores, save = False)"
   ]
  },
  {
   "cell_type": "code",
   "execution_count": null,
   "metadata": {
    "collapsed": true
   },
   "outputs": [],
   "source": []
  }
 ],
 "metadata": {
  "kernelspec": {
   "display_name": "Python 2",
   "language": "python",
   "name": "python2"
  },
  "language_info": {
   "codemirror_mode": {
    "name": "ipython",
    "version": 2
   },
   "file_extension": ".py",
   "mimetype": "text/x-python",
   "name": "python",
   "nbconvert_exporter": "python",
   "pygments_lexer": "ipython2",
   "version": "2.7.12"
  },
  "widgets": {
   "state": {
    "8180058621f94ac88fbfc0297f0267f3": {
     "views": [
      {
       "cell_index": 15
      }
     ]
    },
    "e2bb267c63424b9dae9a1d4839c4d200": {
     "views": [
      {
       "cell_index": 14
      }
     ]
    }
   },
   "version": "1.2.0"
  }
 },
 "nbformat": 4,
 "nbformat_minor": 2
}
