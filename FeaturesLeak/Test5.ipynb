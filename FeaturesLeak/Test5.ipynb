{
 "cells": [
  {
   "cell_type": "code",
   "execution_count": 1,
   "metadata": {
    "collapsed": false
   },
   "outputs": [],
   "source": [
    "import FeaturesLeak as fl\n",
    "%matplotlib inline"
   ]
  },
  {
   "cell_type": "code",
   "execution_count": 2,
   "metadata": {
    "collapsed": false
   },
   "outputs": [],
   "source": [
    "grid_cv = fl.StratifiedKFold(n_splits=3,\n",
    "                          shuffle=True,\n",
    "                          random_state=0)\n",
    "\n",
    "eval_cv = fl.StratifiedKFold(n_splits=3,\n",
    "                          shuffle=True,\n",
    "                          random_state=1)"
   ]
  },
  {
   "cell_type": "code",
   "execution_count": 3,
   "metadata": {
    "collapsed": false
   },
   "outputs": [],
   "source": [
    "myClass = fl.ChooseSubsection(grid_cv, eval_cv, \n",
    "                            k_tr            = 3,\n",
    "                            k_bag           = 3,\n",
    "                            test_size       = 0.1,\n",
    "                            collect_n       = 20,\n",
    "                            size_dim        = 264,\n",
    "                            num_iteration   = 300,\n",
    "                            learning_rate   = 0.25,\n",
    "                            print_log       = True,\n",
    "                            max_vec         = 15)"
   ]
  },
  {
   "cell_type": "code",
   "execution_count": 4,
   "metadata": {
    "collapsed": false
   },
   "outputs": [],
   "source": [
    "myClass.init_data()"
   ]
  },
  {
   "cell_type": "code",
   "execution_count": null,
   "metadata": {
    "collapsed": false,
    "scrolled": true
   },
   "outputs": [
    {
     "name": "stdout",
     "output_type": "stream",
     "text": [
      "INIT\t SCORE: 0.500\t\n",
      "epoch # 77\t SCORE: 0.575\t ADD: 83\n",
      "\n",
      "epoch # 112\t SCORE: 0.685\t ADD: 69\n",
      "\n",
      "epoch # 115\t SCORE: 0.686\t ADD: 74\n",
      "\n",
      "epoch # 206\t SCORE: 0.698\t ADD: 74\n",
      "\n",
      "REAL SCORE: 0.616666666667\n"
     ]
    },
    {
     "data": {
      "image/png": "[encoded data removed]",
      "text/plain": [
       "<matplotlib.figure.Figure at 0x7feda6918450>"
      ]
     },
     "metadata": {},
     "output_type": "display_data"
    },
    {
     "name": "stdout",
     "output_type": "stream",
     "text": [
      "INIT\t SCORE: 0.719\t\n"
     ]
    }
   ],
   "source": [
    "for i in fl.tqdm(range(20)):\n",
    "    myClass.get_seed_result()"
   ]
  },
  {
   "cell_type": "code",
   "execution_count": null,
   "metadata": {
    "collapsed": true
   },
   "outputs": [],
   "source": []
  }
 ],
 "metadata": {
  "kernelspec": {
   "display_name": "Python 2",
   "language": "python",
   "name": "python2"
  },
  "language_info": {
   "codemirror_mode": {
    "name": "ipython",
    "version": 2
   },
   "file_extension": ".py",
   "mimetype": "text/x-python",
   "name": "python",
   "nbconvert_exporter": "python",
   "pygments_lexer": "ipython2",
   "version": "2.7.12"
  },
  "widgets": {
   "state": {
    "021c49a017644e8f931d003b675ef53d": {
     "views": [
      {
       "cell_index": 6
      }
     ]
    },
    "46ca283b40c14d5aa302fa3139418fb1": {
     "views": [
      {
       "cell_index": 4
      }
     ]
    },
    "4b5d9340304848f29f0911698c6161e6": {
     "views": [
      {
       "cell_index": 4
      }
     ]
    },
    "4c2e6c8ca7a145828f57b7abf9222bde": {
     "views": [
      {
       "cell_index": 4
      }
     ]
    },
    "533f54eb51594d88b3a4e4b59163160a": {
     "views": [
      {
       "cell_index": 6
      }
     ]
    },
    "6dca21c57e4d42889f7adb7fb9caa74f": {
     "views": [
      {
       "cell_index": 6
      }
     ]
    },
    "b52169fa9bcf4e17974f41b039d30fb6": {
     "views": [
      {
       "cell_index": 4
      }
     ]
    }
   },
   "version": "1.2.0"
  }
 },
 "nbformat": 4,
 "nbformat_minor": 2
}
