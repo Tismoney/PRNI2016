{
 "cells": [
  {
   "cell_type": "markdown",
   "metadata": {},
   "source": [
    "# Обработка результатов"
   ]
  },
  {
   "cell_type": "code",
   "execution_count": 1,
   "metadata": {
    "collapsed": false
   },
   "outputs": [],
   "source": [
    "import pandas as pd\n",
    "import numpy as np\n",
    "import os\n",
    "\n",
    "from matplotlib import pyplot as plt\n",
    "%matplotlib inline"
   ]
  },
  {
   "cell_type": "code",
   "execution_count": 2,
   "metadata": {
    "collapsed": false
   },
   "outputs": [],
   "source": [
    "k = ['Orig', 0, 5]+ [10*i for i in range(1, 27)] + [263]\n",
    "k_plot = [0, 0, 5]+ [10*i for i in range(1, 27)] + [263]\n",
    "n = [0, 1, 2, 3, 4]"
   ]
  },
  {
   "cell_type": "code",
   "execution_count": 3,
   "metadata": {
    "collapsed": false
   },
   "outputs": [],
   "source": [
    "def get_graph(roc_tmp, title, columns):\n",
    "    assert(len(columns) == len(roc_tmp))\n",
    "    plt.figure(figsize=(18, 7))\n",
    "    plt.plot(columns[1:], roc_tmp[1:], 'ro')\n",
    "    plt.plot(columns[:1], roc_tmp[:1], 'bo')\n",
    "    plt.xlabel('k')\n",
    "    plt.ylabel('roc auc mean')\n",
    "    plt.title(title)"
   ]
  },
  {
   "cell_type": "code",
   "execution_count": 19,
   "metadata": {
    "collapsed": false
   },
   "outputs": [],
   "source": [
    "def get_boxplot(roc_list, title , columns, figsize = (18, 7)):\n",
    "    tmp = np.hstack(roc_list)\n",
    "    tmp = tmp.T\n",
    "    assert(len(columns) == tmp.shape[1])\n",
    "    dt = pd.DataFrame(tmp, columns=columns)\n",
    "    color = dict(boxes='DarkGreen', whiskers='DarkOrange',\n",
    "              medians='DarkBlue', caps='Gray')\n",
    "    dt.plot.box(color=color, sym='r+',title=title, figsize=figsize)\n",
    "    plt.xlabel('k')\n",
    "    plt.ylabel('roc auc mean')"
   ]
  },
  {
   "cell_type": "code",
   "execution_count": 16,
   "metadata": {
    "collapsed": false
   },
   "outputs": [],
   "source": [
    "def get_roc_results(folder):\n",
    "    roc_list = []\n",
    "    for result_file in os.listdir(folder):\n",
    "        result = pd.read_csv(folder + '/' + result_file)\n",
    "        roc_list.append(result.as_matrix([\"grid_roc_auc_mean\"]))\n",
    "    return roc_list"
   ]
  },
  {
   "cell_type": "code",
   "execution_count": 17,
   "metadata": {
    "collapsed": true
   },
   "outputs": [],
   "source": [
    "def Go_box(folder, title): get_boxplot(get_roc_results(folder), title, k)"
   ]
  },
  {
   "cell_type": "code",
   "execution_count": 18,
   "metadata": {
    "collapsed": false
   },
   "outputs": [],
   "source": [
    "def Go_plot(path, title):\n",
    "    \n",
    "    result = pd.read_csv(path).as_matrix([\"grid_roc_auc_mean\"])\n",
    "    result = result.reshape(result.shape[0], )\n",
    "    get_graph(result, title, k_plot)"
   ]
  },
  {
   "cell_type": "code",
   "execution_count": 24,
   "metadata": {
    "collapsed": true
   },
   "outputs": [],
   "source": [
    "def Go_two_box(folder, title_1, title_2):\n",
    "    get_boxplot(get_roc_results(folder),\n",
    "                title_1 + '                 ' + title_2,\n",
    "                ['Orig', 'low230', 'low240', 'Orig', 'low250', 'low260'],\n",
    "               figsize = (8,6))    "
   ]
  },
  {
   "cell_type": "code",
   "execution_count": null,
   "metadata": {
    "collapsed": true
   },
   "outputs": [],
   "source": []
  },
  {
   "cell_type": "code",
   "execution_count": null,
   "metadata": {
    "collapsed": true
   },
   "outputs": [],
   "source": []
  },
  {
   "cell_type": "markdown",
   "metadata": {},
   "source": [
    "# Построим Графики"
   ]
  },
  {
   "cell_type": "markdown",
   "metadata": {},
   "source": [
    "**k** - исследумый параметр. Сколько данных можно выкинуть, уменьшая тем самым размерность. Т.е. после применения алгоритма, матрица (N, N) станет матрице (N, N - k)"
   ]
  },
  {
   "cell_type": "markdown",
   "metadata": {},
   "source": [
    "## Logistc regresion"
   ]
  },
  {
   "cell_type": "markdown",
   "metadata": {},
   "source": [
    "### Orig-Spectral"
   ]
  },
  {
   "cell_type": "markdown",
   "metadata": {},
   "source": [
    "Выберем однну модель (логичстическую регрессию с фиксированными параметрами). И посмотрим, как меняется результат в зависимости от параметра k\n",
    "![title](Pic/Plot-Orig-OneModel.png)"
   ]
  },
  {
   "cell_type": "markdown",
   "metadata": {},
   "source": [
    "Построим boxplot для тогоже классификатора на 10 различных валидаций\n",
    "![title](Pic/Boxplot-Orig-OneModel.png)"
   ]
  },
  {
   "cell_type": "markdown",
   "metadata": {},
   "source": [
    "Теперь построим boxplot на 10 валидациях, где лучший score берет для лучшей модели для однельной валидации\n",
    "![title](Pic/Boxplot-Orig-TheBestModel.png)"
   ]
  },
  {
   "cell_type": "markdown",
   "metadata": {},
   "source": [
    "Теперь построим boxplot на 11 валидациях, где лучший score берет для лучшей модели для каждого k, которая определятеся из первой валидации\n",
    "![title](Pic/Boxplot-Orig-OneTheBestModel.png)"
   ]
  },
  {
   "cell_type": "markdown",
   "metadata": {},
   "source": [
    "### ~~Binar-Orig~~ Orig-Orig"
   ]
  },
  {
   "cell_type": "markdown",
   "metadata": {},
   "source": [
    "Опять выберем одну модель и опять построом на зависимость от k\n",
    "![title](Pic/Plot-Binar-OneModel.png)"
   ]
  },
  {
   "cell_type": "markdown",
   "metadata": {},
   "source": [
    "Построим boxplot для одной модели\n",
    "![title](Pic/Boxplot-Binar-OneModel.png)"
   ]
  },
  {
   "cell_type": "markdown",
   "metadata": {},
   "source": [
    "Построим график, где для каждого k мы выбираем лучшую модель\n",
    "![title](Pic/Plot-Binar-TheBestModel.png)"
   ]
  },
  {
   "cell_type": "markdown",
   "metadata": {},
   "source": [
    "## XGBoost"
   ]
  },
  {
   "cell_type": "markdown",
   "metadata": {},
   "source": [
    "### ~~Binar-Orig~~ Orig-Orig"
   ]
  },
  {
   "cell_type": "markdown",
   "metadata": {},
   "source": [
    "Вновь выберем одну модель и опять построом на зависимость от k\n",
    "![title](Pic/XGB_Plot-Binar-OneModel.png)"
   ]
  },
  {
   "cell_type": "markdown",
   "metadata": {},
   "source": [
    "При желании построить boxplot на 10 валидациях, xgboost выдавал одинаковый результат\n",
    "![title](Pic/XGB_Boxplot-Binar-OneModel.png)\n",
    "\n",
    "Возможно я что-то не так сделал. Проверял. Не нашел ошибки. **Странно**"
   ]
  },
  {
   "cell_type": "markdown",
   "metadata": {},
   "source": [
    "**Замечания**   \n",
    "При фиксированном параметре random_state валидация происходит одна и та же. Что можно наблюдать на последнем графике. Странность казлючается в том, что при построении второго графика (первый boxplot) я тоже фиксировал random_state и при этом он выдавал различные результаты."
   ]
  },
  {
   "cell_type": "markdown",
   "metadata": {
    "collapsed": true
   },
   "source": [
    "## SVC\n",
    "### ~~Binar-Orig~~ Orig-Orig"
   ]
  },
  {
   "cell_type": "markdown",
   "metadata": {},
   "source": [
    "Построим график зависимости для лучшей модели\n",
    "![title](Pic/SVC_Plot-Binar-TheBestModel.png)"
   ]
  },
  {
   "cell_type": "markdown",
   "metadata": {},
   "source": [
    "# Boxplot\n",
    "## Log Regression (Orig-Spectral and ~~Binar-Orig~~ Orig-Orig)"
   ]
  },
  {
   "cell_type": "markdown",
   "metadata": {},
   "source": [
    "Выберем по две фичи для разных предпроцессингов. И построим boxplot на 30 валидациях \n",
    "![title](Pic/Boxplot_LR.png)"
   ]
  },
  {
   "cell_type": "markdown",
   "metadata": {},
   "source": [
    "# Замечание\n",
    "\n",
    "Нашел очень тупую ошибку програмиста. В некоторых местах, вместо бинарного взвешивания я поставил оригинальное. В частности в для последнего boxplota. В скоро времени обновлю результаты с верными параметрами"
   ]
  },
  {
   "cell_type": "markdown",
   "metadata": {},
   "source": [
    "### Место, для постраения графиков"
   ]
  },
  {
   "cell_type": "code",
   "execution_count": null,
   "metadata": {
    "collapsed": true
   },
   "outputs": [],
   "source": []
  }
 ],
 "metadata": {
  "kernelspec": {
   "display_name": "Python 2",
   "language": "python",
   "name": "python2"
  },
  "language_info": {
   "codemirror_mode": {
    "name": "ipython",
    "version": 2
   },
   "file_extension": ".py",
   "mimetype": "text/x-python",
   "name": "python",
   "nbconvert_exporter": "python",
   "pygments_lexer": "ipython2",
   "version": "2.7.12"
  }
 },
 "nbformat": 4,
 "nbformat_minor": 2
}
