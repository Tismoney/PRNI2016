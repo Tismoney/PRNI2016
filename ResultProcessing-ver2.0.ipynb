{
 "cells": [
  {
   "cell_type": "markdown",
   "metadata": {},
   "source": [
    "# Обработка результатов"
   ]
  },
  {
   "cell_type": "code",
   "execution_count": null,
   "metadata": {
    "collapsed": false
   },
   "outputs": [],
   "source": [
    "import pandas as pd\n",
    "import numpy as np\n",
    "import os\n",
    "\n",
    "from matplotlib import pyplot as plt\n",
    "%matplotlib inline"
   ]
  },
  {
   "cell_type": "code",
   "execution_count": null,
   "metadata": {
    "collapsed": false
   },
   "outputs": [],
   "source": [
    "k = ['Orig', 0, 5]+ [10*i for i in range(1, 27)] + [263]\n",
    "n = [0, 1, 2, 3, 4]"
   ]
  },
  {
   "cell_type": "code",
   "execution_count": null,
   "metadata": {
    "collapsed": false
   },
   "outputs": [],
   "source": [
    "def get_boxplot(roc_list, title , columns):\n",
    "    tmp = np.hstack(roc_list)\n",
    "    tmp = tmp.T\n",
    "    assert(len(columns) == tmp.shape[1])\n",
    "    dt = pd.DataFrame(tmp, columns=columns)\n",
    "    color = dict(boxes='DarkGreen', whiskers='DarkOrange',\n",
    "              medians='DarkBlue', caps='Gray')\n",
    "    dt.plot.box(color=color, sym='r+',title=title, figsize=(18, 7))\n",
    "    plt.xlabel('k')\n",
    "    plt.ylabel('roc auc mean')"
   ]
  },
  {
   "cell_type": "code",
   "execution_count": null,
   "metadata": {
    "collapsed": false
   },
   "outputs": [],
   "source": [
    "def get_roc_results(folder):\n",
    "    roc_list = []\n",
    "    for result_file in os.listdir(folder):\n",
    "        result = pd.read_csv(folder + '/' + result_file)\n",
    "        roc_list.append(result.as_matrix([\"grid_roc_auc_mean\"]))\n",
    "    return roc_list"
   ]
  },
  {
   "cell_type": "code",
   "execution_count": null,
   "metadata": {
    "collapsed": true
   },
   "outputs": [],
   "source": [
    "def Go(folder, title): get_boxplot(get_roc_results(folder), title, k)"
   ]
  },
  {
   "cell_type": "markdown",
   "metadata": {},
   "source": [
    "## Построим Boxplot"
   ]
  },
  {
   "cell_type": "markdown",
   "metadata": {},
   "source": [
    "**k** - исследумый параметр. Сколько данных можно выкинуть, уменьшая тем самым размерность. Т.е. после применения алгоритма, матрица (N, N) станет матрице (N, N - k)"
   ]
  },
  {
   "cell_type": "code",
   "execution_count": null,
   "metadata": {
    "collapsed": false
   },
   "outputs": [],
   "source": [
    "Go('LowRankResults', 'Orig-Spectral')"
   ]
  },
  {
   "cell_type": "code",
   "execution_count": null,
   "metadata": {
    "collapsed": true
   },
   "outputs": [],
   "source": []
  }
 ],
 "metadata": {
  "kernelspec": {
   "display_name": "Python 2",
   "language": "python",
   "name": "python2"
  },
  "language_info": {
   "codemirror_mode": {
    "name": "ipython",
    "version": 2
   },
   "file_extension": ".py",
   "mimetype": "text/x-python",
   "name": "python",
   "nbconvert_exporter": "python",
   "pygments_lexer": "ipython2",
   "version": "2.7.12"
  }
 },
 "nbformat": 4,
 "nbformat_minor": 2
}
