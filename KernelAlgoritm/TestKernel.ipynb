{
 "cells": [
  {
   "cell_type": "code",
   "execution_count": 1,
   "metadata": {
    "collapsed": true
   },
   "outputs": [],
   "source": [
    "import numpy as np"
   ]
  },
  {
   "cell_type": "code",
   "execution_count": 2,
   "metadata": {
    "collapsed": false
   },
   "outputs": [],
   "source": [
    "def convert(A, mode, size = 264):\n",
    "    if mode == 'mat2vec':\n",
    "        A_vec = np.hstack(A)\n",
    "        return A_vec\n",
    "        \n",
    "    if mode == 'vec2mat':\n",
    "        A_mat = []\n",
    "        i = 0\n",
    "        while i != A.shape[0]:\n",
    "            A_str = A[0+i:size+i]\n",
    "            A_mat.append(A_str)\n",
    "            i += size\n",
    "        A_mat = np.vstack(A_mat)\n",
    "        return A_mat\n",
    "\n",
    "from math import exp    \n",
    "    \n",
    "def ker(A, B, size):\n",
    "    #Данные подавются в виде векторов, поэтому преобразуем их в матрицы\n",
    "    print A.shape, B.shape\n",
    "    A = convert(A, 'vec2mat', size)\n",
    "    B = convert(B, 'vec2mat', size)\n",
    "    C = A.T.dot(A) - B.T.dot(B)\n",
    "    print A.shape, B.shape, C.shape\n",
    "    #Посчитаем расстояние\n",
    "    d = np.linalg.norm(C, 'fro')\n",
    "    return exp(-d * 3 * 10**-1)"
   ]
  },
  {
   "cell_type": "code",
   "execution_count": 3,
   "metadata": {
    "collapsed": true
   },
   "outputs": [],
   "source": [
    "size = 264\n",
    "k = 250\n",
    "vecs_p = []\n",
    "vecs_q = []\n",
    "vecs_m = []\n",
    "\n",
    "one = np.ones(size)\n",
    "vecs_p.append(one / np.linalg.norm(one))\n",
    "\n",
    "one[0] += 0.1\n",
    "vecs_q.append(one / np.linalg.norm(one))\n",
    "\n",
    "one = np.ones(size)\n",
    "one[0] = -one[0]\n",
    "vecs_m.append(one / np.linalg.norm(one))\n",
    "\n",
    "for i in range(size - 2 - k ):\n",
    "    one = np.ones(size)\n",
    "    one[i+1] += 1\n",
    "    vecs_p.append(one / np.linalg.norm(one))\n",
    "    \n",
    "    one = np.ones(size)\n",
    "    one[i+1] += 1.1\n",
    "    vecs_q.append(one / np.linalg.norm(one))\n",
    "\n",
    "    one = np.ones(size)\n",
    "    one[i+1] += 1\n",
    "    one[0] = -one[0]\n",
    "    vecs_m.append(one / np.linalg.norm(one))\n",
    "\n",
    "A = np.hstack(vecs_p)\n",
    "B = np.hstack(vecs_m)\n",
    "C = np.hstack(vecs_q)"
   ]
  },
  {
   "cell_type": "markdown",
   "metadata": {},
   "source": [
    "#### For differently matrices"
   ]
  },
  {
   "cell_type": "code",
   "execution_count": 4,
   "metadata": {
    "collapsed": false
   },
   "outputs": [
    {
     "name": "stdout",
     "output_type": "stream",
     "text": [
      "(3432,) (3432,)\n",
      "(13, 264) (13, 264) (264, 264)\n"
     ]
    },
    {
     "data": {
      "text/plain": [
       "0.5101628191021769"
      ]
     },
     "execution_count": 4,
     "metadata": {},
     "output_type": "execute_result"
    }
   ],
   "source": [
    "ker(A, B, size)"
   ]
  },
  {
   "cell_type": "code",
   "execution_count": 5,
   "metadata": {
    "collapsed": false
   },
   "outputs": [
    {
     "name": "stdout",
     "output_type": "stream",
     "text": [
      "(3432,) (3432,)\n",
      "(13, 264) (13, 264) (264, 264)\n"
     ]
    },
    {
     "data": {
      "text/plain": [
       "0.5089929360592471"
      ]
     },
     "execution_count": 5,
     "metadata": {},
     "output_type": "execute_result"
    }
   ],
   "source": [
    "ker(C, B, size)"
   ]
  },
  {
   "cell_type": "markdown",
   "metadata": {},
   "source": [
    "#### For closely matrices"
   ]
  },
  {
   "cell_type": "code",
   "execution_count": 6,
   "metadata": {
    "collapsed": false
   },
   "outputs": [
    {
     "name": "stdout",
     "output_type": "stream",
     "text": [
      "(3432,) (3432,)\n",
      "(13, 264) (13, 264) (264, 264)\n"
     ]
    },
    {
     "data": {
      "text/plain": [
       "0.9905737097457495"
      ]
     },
     "execution_count": 6,
     "metadata": {},
     "output_type": "execute_result"
    }
   ],
   "source": [
    "ker(A, C, size)"
   ]
  }
 ],
 "metadata": {
  "kernelspec": {
   "display_name": "Python 2",
   "language": "python",
   "name": "python2"
  },
  "language_info": {
   "codemirror_mode": {
    "name": "ipython",
    "version": 2
   },
   "file_extension": ".py",
   "mimetype": "text/x-python",
   "name": "python",
   "nbconvert_exporter": "python",
   "pygments_lexer": "ipython2",
   "version": "2.7.6"
  }
 },
 "nbformat": 4,
 "nbformat_minor": 0
}
