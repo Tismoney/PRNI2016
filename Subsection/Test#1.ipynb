{
 "cells": [
  {
   "cell_type": "code",
   "execution_count": 1,
   "metadata": {
    "collapsed": false
   },
   "outputs": [],
   "source": [
    "import Subsection as ss"
   ]
  },
  {
   "cell_type": "code",
   "execution_count": 2,
   "metadata": {
    "collapsed": true
   },
   "outputs": [],
   "source": [
    "grid_cv = ss.StratifiedKFold(n_splits=10, shuffle=True, random_state=0)\n",
    "eval_cv = ss.StratifiedKFold(n_splits=10, shuffle=True, random_state=1)"
   ]
  },
  {
   "cell_type": "code",
   "execution_count": 3,
   "metadata": {
    "collapsed": true
   },
   "outputs": [],
   "source": [
    "Sub = ss.Subsection(eval_cv=eval_cv, grid_cv=grid_cv)"
   ]
  },
  {
   "cell_type": "code",
   "execution_count": 4,
   "metadata": {
    "collapsed": true
   },
   "outputs": [],
   "source": [
    "Sub.init_data()"
   ]
  },
  {
   "cell_type": "code",
   "execution_count": 5,
   "metadata": {
    "collapsed": false
   },
   "outputs": [],
   "source": [
    "Sub.init_params(\n",
    "            k_tr            = 3,\n",
    "            k_bag           = 3,\n",
    "            collect_n       = 10,\n",
    "            size_dim        = 264,\n",
    "            num_iteration   = 700,\n",
    "            learning_rate   = 0.1,\n",
    "            max_vec         = 40,\n",
    "            max_porog       = 0,\n",
    "            param_grid      = dict(  classifier__C=[0.1, 0.25, 0.5, 0.75, 1.0], classifier__penalty = ['l1']) )"
   ]
  },
  {
   "cell_type": "code",
   "execution_count": null,
   "metadata": {
    "collapsed": false
   },
   "outputs": [
    {
     "name": "stdout",
     "output_type": "stream",
     "text": [
      "INIT\t SCORE: 0.795\t\n",
      "\n",
      "REAL SCORE: 0.5\n"
     ]
    },
    {
     "data": {
      "image/png": "[encoded data removed]",
      "text/plain": [
       "<matplotlib.figure.Figure at 0x7f9f31c016d0>"
      ]
     },
     "metadata": {},
     "output_type": "display_data"
    },
    {
     "name": "stdout",
     "output_type": "stream",
     "text": [
      "INIT\t SCORE: 0.616\t\n"
     ]
    }
   ],
   "source": [
    "Sub.get_result()"
   ]
  },
  {
   "cell_type": "code",
   "execution_count": null,
   "metadata": {
    "collapsed": true
   },
   "outputs": [],
   "source": []
  }
 ],
 "metadata": {
  "kernelspec": {
   "display_name": "Python 2",
   "language": "python",
   "name": "python2"
  },
  "language_info": {
   "codemirror_mode": {
    "name": "ipython",
    "version": 2
   },
   "file_extension": ".py",
   "mimetype": "text/x-python",
   "name": "python",
   "nbconvert_exporter": "python",
   "pygments_lexer": "ipython2",
   "version": "2.7.12"
  },
  "widgets": {
   "state": {
    "51bcbc2b62a047a393369dec3bcfc998": {
     "views": [
      {
       "cell_index": 5
      }
     ]
    },
    "6273170989584ea6a592898f7b1bb036": {
     "views": [
      {
       "cell_index": 5
      }
     ]
    },
    "aeeffb9f3d8546018995b7906ecab018": {
     "views": [
      {
       "cell_index": 5
      }
     ]
    },
    "f27d6b40dc03491597c5991984085f8e": {
     "views": [
      {
       "cell_index": 5
      }
     ]
    }
   },
   "version": "1.2.0"
  }
 },
 "nbformat": 4,
 "nbformat_minor": 2
}
