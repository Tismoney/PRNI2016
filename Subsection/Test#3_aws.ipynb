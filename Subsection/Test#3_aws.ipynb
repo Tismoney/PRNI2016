{
 "cells": [
  {
   "cell_type": "code",
   "execution_count": 1,
   "metadata": {
    "collapsed": false
   },
   "outputs": [],
   "source": [
    "import Subsection as ss\n",
    "%matplotlib inline"
   ]
  },
  {
   "cell_type": "code",
   "execution_count": 2,
   "metadata": {
    "collapsed": false
   },
   "outputs": [],
   "source": [
    "grid_cv = ss.StratifiedKFold(n_splits=10, shuffle=True, random_state=0)\n",
    "eval_cv = ss.StratifiedKFold(n_splits=10, shuffle=True, random_state=1)"
   ]
  },
  {
   "cell_type": "code",
   "execution_count": 3,
   "metadata": {
    "collapsed": false
   },
   "outputs": [],
   "source": [
    "Sub = ss.Subsection_k(eval_cv=eval_cv, grid_cv=grid_cv)"
   ]
  },
  {
   "cell_type": "code",
   "execution_count": 4,
   "metadata": {
    "collapsed": true
   },
   "outputs": [],
   "source": [
    "Sub.init_data()"
   ]
  },
  {
   "cell_type": "code",
   "execution_count": 5,
   "metadata": {
    "collapsed": false
   },
   "outputs": [],
   "source": [
    "Sub.init_params(\n",
    "            k_init          = 124,\n",
    "            collect_n       = 10,\n",
    "            size_dim        = 264,\n",
    "            param_grid      = dict(classifier__C=[0.5], \n",
    "                                classifier__penalty = ['l1'],\n",
    "                                classifier__max_iter = [50]) )"
   ]
  },
  {
   "cell_type": "code",
   "execution_count": 6,
   "metadata": {
    "collapsed": false,
    "scrolled": false
   },
   "outputs": [
    {
     "name": "stdout",
     "output_type": "stream",
     "text": [
      "REAL SCORE: 0.35\n",
      "REAL SCORE: 0.5\n",
      "REAL SCORE: 0.6\n",
      "REAL SCORE: 0.875\n",
      "REAL SCORE: 0.55\n",
      "REAL SCORE: 0.55\n",
      "REAL SCORE: 0.425\n",
      "REAL SCORE: 0.525\n",
      "REAL SCORE: 0.65\n",
      "REAL SCORE: 0.4\n",
      "REAL SCORE: 0.5425\n"
     ]
    },
    {
     "data": {
      "text/plain": [
       "0.54250000000000009"
      ]
     },
     "execution_count": 6,
     "metadata": {},
     "output_type": "execute_result"
    }
   ],
   "source": [
    "Sub.get_result()"
   ]
  },
  {
   "cell_type": "code",
   "execution_count": null,
   "metadata": {
    "collapsed": true
   },
   "outputs": [],
   "source": []
  }
 ],
 "metadata": {
  "kernelspec": {
   "display_name": "Python 2",
   "language": "python",
   "name": "python2"
  },
  "language_info": {
   "codemirror_mode": {
    "name": "ipython",
    "version": 2
   },
   "file_extension": ".py",
   "mimetype": "text/x-python",
   "name": "python",
   "nbconvert_exporter": "python",
   "pygments_lexer": "ipython2",
   "version": "2.7.11"
  },
  "widgets": {
   "state": {
    "51bcbc2b62a047a393369dec3bcfc998": {
     "views": [
      {
       "cell_index": 5
      }
     ]
    },
    "6273170989584ea6a592898f7b1bb036": {
     "views": [
      {
       "cell_index": 5
      }
     ]
    },
    "aeeffb9f3d8546018995b7906ecab018": {
     "views": [
      {
       "cell_index": 5
      }
     ]
    },
    "f27d6b40dc03491597c5991984085f8e": {
     "views": [
      {
       "cell_index": 5
      }
     ]
    }
   },
   "version": "1.2.0"
  }
 },
 "nbformat": 4,
 "nbformat_minor": 2
}
